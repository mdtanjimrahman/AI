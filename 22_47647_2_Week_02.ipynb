{
  "cells": [
    {
      "cell_type": "markdown",
      "metadata": {
        "id": "view-in-github",
        "colab_type": "text"
      },
      "source": [
        "<a href=\"https://colab.research.google.com/github/tanjimmm/AI/blob/main/22_47647_2_Week_02.ipynb\" target=\"_parent\"><img src=\"https://colab.research.google.com/assets/colab-badge.svg\" alt=\"Open In Colab\"/></a>"
      ]
    },
    {
      "cell_type": "markdown",
      "metadata": {
        "id": "gVdgbvf19OA9"
      },
      "source": [
        "# About this notebook\n",
        "<p style=\"text-align: justify\"> Here, you will learn the basic statements of python and function. Some codes will be given for demonstration. Some other codes, you will do as excercise.</p>\n",
        "\n",
        "## Submission\n",
        "<p style=\"text-align: justify\">After completing the practice codes and exercises, download the notebook (.pynb file) and submit the notebook  to MS Teams inbox in the class period</p>\n",
        "<p> 1.<b> You must submit your own code</b>. If similarity found negative marking will be given.</p>\n",
        "<p> 2. Modify the file name writing your ID at the beigining of the file name.</p><p> <b>Example: 20-45961-3 Lab 02.ipynb</b></p>\n",
        "<p> 3. Other file format (except .pynb) or link will not be accepted.</p>"
      ]
    },
    {
      "cell_type": "markdown",
      "metadata": {
        "id": "sVSQpyqT9OBH"
      },
      "source": [
        "# User Input"
      ]
    },
    {
      "cell_type": "code",
      "execution_count": null,
      "metadata": {
        "colab": {
          "base_uri": "https://localhost:8080/"
        },
        "id": "JPTt3qbo9OBI",
        "outputId": "cd8c6c91-680d-46d3-c75b-f22bae92bb80"
      },
      "outputs": [
        {
          "output_type": "stream",
          "name": "stdout",
          "text": [
            "21\n"
          ]
        }
      ],
      "source": [
        "a = 21\n",
        "print(a)"
      ]
    },
    {
      "cell_type": "code",
      "source": [
        "a = input()\n",
        "print(a)\n",
        "print(type(a))"
      ],
      "metadata": {
        "id": "YCouIBhhorBO",
        "colab": {
          "base_uri": "https://localhost:8080/"
        },
        "outputId": "da4f6c3a-12ea-4651-8b59-ea35e488f108"
      },
      "execution_count": 1,
      "outputs": [
        {
          "output_type": "stream",
          "name": "stdout",
          "text": [
            "12\n",
            "12\n",
            "<class 'str'>\n"
          ]
        }
      ]
    },
    {
      "cell_type": "code",
      "execution_count": 2,
      "metadata": {
        "colab": {
          "base_uri": "https://localhost:8080/"
        },
        "id": "WgnNFESa9OBL",
        "outputId": "0224836b-385f-4e8c-91a3-0a44053084a5"
      },
      "outputs": [
        {
          "output_type": "stream",
          "name": "stdout",
          "text": [
            "Enter a value: 12\n",
            "The given value is 12\n",
            "<class 'str'>\n"
          ]
        }
      ],
      "source": [
        "a = input('Enter a value: ') # always returns string\n",
        "print('The given value is '+ a)\n",
        "print(type(a))"
      ]
    },
    {
      "cell_type": "code",
      "execution_count": 4,
      "metadata": {
        "id": "qGfffqzZ9OBM",
        "colab": {
          "base_uri": "https://localhost:8080/"
        },
        "outputId": "c732aa8e-4a6d-4a5b-a8e5-de2c2c204fd6"
      },
      "outputs": [
        {
          "output_type": "stream",
          "name": "stdout",
          "text": [
            "Enter a non-prime number: 30.12\n",
            "The result is 130.12\n",
            "<class 'float'>\n"
          ]
        }
      ],
      "source": [
        "a = float(input('Enter a non-prime number: ')) # returns string but converted to float\n",
        "print('The result is', a+100)\n",
        "print(type(a))"
      ]
    },
    {
      "cell_type": "code",
      "source": [
        "while True:\n",
        "  a = input('Enter your Birth Year:')\n",
        "  if a.isdigit():\n",
        "    print('You are ' + str(2024-int(a)) + ' years old')\n",
        "    #print(2023-int(a))\n",
        "    break\n",
        "  print('WRONG INPUT')"
      ],
      "metadata": {
        "id": "LhsfvXa7lAk8",
        "colab": {
          "base_uri": "https://localhost:8080/"
        },
        "outputId": "2ef327cc-2c54-4720-cc13-57e0998c7ac5"
      },
      "execution_count": 6,
      "outputs": [
        {
          "output_type": "stream",
          "name": "stdout",
          "text": [
            "Enter your Birth Year:2000\n",
            "You are 24 years old\n"
          ]
        }
      ]
    },
    {
      "cell_type": "markdown",
      "metadata": {
        "id": "yd5uai6a9OBO"
      },
      "source": [
        "# if statement\n",
        "There can be zero or more elif parts, and the else part is optional. The keyword ‘elif’ is short for ‘else if’"
      ]
    },
    {
      "cell_type": "code",
      "execution_count": 7,
      "metadata": {
        "colab": {
          "base_uri": "https://localhost:8080/"
        },
        "id": "bkNWtGEA9OBP",
        "outputId": "ea9c16a3-dbf4-46e9-8597-9829eb82d672"
      },
      "outputs": [
        {
          "output_type": "stream",
          "name": "stdout",
          "text": [
            "okay\n",
            "fine\n",
            "not okay\n"
          ]
        }
      ],
      "source": [
        "# indent\n",
        "i = 2\n",
        "if i < 5: # () not required, {} not required\n",
        "  print('okay')\n",
        "  print('fine')\n",
        "else:\n",
        "  print('bad')\n",
        "print('not okay') # will be executed in each run"
      ]
    },
    {
      "cell_type": "code",
      "execution_count": null,
      "metadata": {
        "colab": {
          "base_uri": "https://localhost:8080/"
        },
        "id": "4-2lHhfa9OBQ",
        "outputId": "aaa9fbdb-ad4d-4d0c-fd5f-a8ae288bf1fd"
      },
      "outputs": [
        {
          "output_type": "stream",
          "name": "stdout",
          "text": [
            "Please enter an integer: 5\n",
            "More\n"
          ]
        }
      ],
      "source": [
        "x = int(input(\"Please enter an integer: \"))\n",
        "if x < 0:\n",
        "    x = 0\n",
        "    print('Negative changed to zero')\n",
        "elif x == 0:\n",
        "    print('Zero')\n",
        "elif x == 1:\n",
        "    print('Single')\n",
        "else:\n",
        "  print('More')"
      ]
    },
    {
      "cell_type": "markdown",
      "metadata": {
        "id": "CeTgipag9OBR"
      },
      "source": [
        "<b>Exercise 1:</b> Input a course mark (0-100) from user and use the <b>if</b> statement to print corresponding grade."
      ]
    },
    {
      "cell_type": "code",
      "execution_count": 20,
      "metadata": {
        "id": "75nu_spY9OBS",
        "colab": {
          "base_uri": "https://localhost:8080/"
        },
        "outputId": "dede07b8-1046-4e23-e175-203d9da61ff1"
      },
      "outputs": [
        {
          "name": "stdout",
          "output_type": "stream",
          "text": [
            "Enter Your marks (type exit to close): exit\n"
          ]
        }
      ],
      "source": [
        "while True:\n",
        "  mark = input('Enter Your marks (type exit to close): ')\n",
        "\n",
        "  if mark == 'exit':\n",
        "    break\n",
        "\n",
        "  if not mark.isdigit():\n",
        "    print('WRONG INPUT')\n",
        "\n",
        "  else:\n",
        "    if int(mark) >= 90:\n",
        "      print('A+')\n",
        "    elif int(mark) >= 85:\n",
        "      print('A')\n",
        "    elif int(mark) >= 80:\n",
        "      print('B+')\n",
        "    elif int(mark) >= 75:\n",
        "      print('B')\n",
        "    elif int(mark) >= 70:\n",
        "      print('C+')\n",
        "    elif int(mark) >= 65:\n",
        "      print('C')\n",
        "    elif int(mark) >= 60:\n",
        "      print('D+')\n",
        "    elif int(mark) >= 50:\n",
        "      print('D')\n",
        "    elif int(mark) <= 49:\n",
        "      print('F')\n",
        "\n",
        "\n"
      ]
    },
    {
      "cell_type": "markdown",
      "metadata": {
        "id": "BLPDtgWr9OBT"
      },
      "source": [
        "# for statement\n",
        "<p style=\"text-align: justify\">The for statement in Python differs a bit from what you may be used to in C or C++. Rather than always giving the user the ability to define both the iteration step and halting condition, Python’s for statement iterates over the items of any sequence (a list or a string), in the order that they appear in the sequence.</p>"
      ]
    },
    {
      "cell_type": "code",
      "execution_count": 21,
      "metadata": {
        "colab": {
          "base_uri": "https://localhost:8080/"
        },
        "id": "k6eiUKVF9OBU",
        "outputId": "ca18d34e-7d39-4d79-9128-caa58151512f"
      },
      "outputs": [
        {
          "output_type": "stream",
          "name": "stdout",
          "text": [
            "the word is: Tanjim\n",
            "the word is: Tonni\n",
            "the word is: Dhaka\n",
            "the word is: Ctg\n"
          ]
        }
      ],
      "source": [
        "# Measure some strings:\n",
        "words = ['Tanjim', 'Tonni', 'Dhaka','Ctg']\n",
        "\n",
        "for w in words:\n",
        "    print('the word is:',w)"
      ]
    },
    {
      "cell_type": "code",
      "source": [
        "words = ['cat', 'window', 'dhaka','ctg','ABC']\n",
        "for i in range(len(words)):\n",
        "    print('the word is:',words[i])"
      ],
      "metadata": {
        "colab": {
          "base_uri": "https://localhost:8080/"
        },
        "id": "NdM3WOnovXx2",
        "outputId": "06e88a98-5ac7-410f-b7f1-43060adc57c4"
      },
      "execution_count": null,
      "outputs": [
        {
          "output_type": "stream",
          "name": "stdout",
          "text": [
            "the word is: cat\n",
            "the word is: window\n",
            "the word is: dhaka\n",
            "the word is: ctg\n",
            "the word is: ABC\n"
          ]
        }
      ]
    },
    {
      "cell_type": "code",
      "source": [
        "list(range(2,10))"
      ],
      "metadata": {
        "colab": {
          "base_uri": "https://localhost:8080/"
        },
        "id": "22etO_4J87wJ",
        "outputId": "fd40e681-a1ea-41f0-8424-c453ea8cb6bd"
      },
      "execution_count": null,
      "outputs": [
        {
          "output_type": "execute_result",
          "data": {
            "text/plain": [
              "[2, 3, 4, 5, 6, 7, 8, 9]"
            ]
          },
          "metadata": {},
          "execution_count": 11
        }
      ]
    },
    {
      "cell_type": "code",
      "execution_count": null,
      "metadata": {
        "colab": {
          "base_uri": "https://localhost:8080/"
        },
        "id": "gxRxRU9B9OBW",
        "outputId": "5310b5b7-6a3b-46e6-f32a-94fa78825604"
      },
      "outputs": [
        {
          "output_type": "stream",
          "name": "stdout",
          "text": [
            "11\n",
            "66\n",
            "88\n",
            "18\n",
            "17\n"
          ]
        }
      ],
      "source": [
        "numbers = [1, 56, 78, 8,7]\n",
        "\n",
        "for n in numbers:\n",
        "    print(n+10)"
      ]
    },
    {
      "cell_type": "code",
      "source": [
        "list(range(5))"
      ],
      "metadata": {
        "colab": {
          "base_uri": "https://localhost:8080/"
        },
        "id": "xM7Q3lOs1Zq1",
        "outputId": "e9d36346-ccb1-409b-d9a4-76ac7623375f"
      },
      "execution_count": null,
      "outputs": [
        {
          "output_type": "execute_result",
          "data": {
            "text/plain": [
              "[0, 1, 2, 3, 4]"
            ]
          },
          "metadata": {},
          "execution_count": 13
        }
      ]
    },
    {
      "cell_type": "markdown",
      "metadata": {
        "id": "OnIIzz_29OBX"
      },
      "source": [
        "### The range() Function\n",
        "If you do need to iterate over a sequence of numbers, the built-in function range() comes in handy. It generates arithmetic progressions:"
      ]
    },
    {
      "cell_type": "code",
      "execution_count": null,
      "metadata": {
        "colab": {
          "base_uri": "https://localhost:8080/"
        },
        "id": "eIvd_Nhy9OBY",
        "outputId": "94271784-38e9-44e0-d82a-3aae2d9da1b1"
      },
      "outputs": [
        {
          "output_type": "stream",
          "name": "stdout",
          "text": [
            "0\n",
            "2\n",
            "4\n",
            "6\n",
            "8\n",
            "10\n",
            "12\n",
            "14\n",
            "16\n",
            "18\n"
          ]
        }
      ],
      "source": [
        "# repeated for 0 to 4\n",
        "# for(i=0;i<5;i++)\n",
        "for i in range(0,20,2):\n",
        "    print(i)"
      ]
    },
    {
      "cell_type": "markdown",
      "source": [],
      "metadata": {
        "id": "AchXCJANSxdv"
      }
    },
    {
      "cell_type": "markdown",
      "metadata": {
        "id": "Tdu8trNj9OBZ"
      },
      "source": [
        "<p style=\"text-align: justify\">The given end point is never part of the generated sequence; range(10) generates 10 values, the legal indices for items of a sequence of length 10. It is possible to let the range start at another number, or to specify a different increment (even negative; sometimes this is called the ‘step’):</p>"
      ]
    },
    {
      "cell_type": "code",
      "execution_count": null,
      "metadata": {
        "colab": {
          "base_uri": "https://localhost:8080/"
        },
        "id": "0l562ow69OBZ",
        "outputId": "6c4477d4-74c4-4fc7-904a-b7db6d5cfa50"
      },
      "outputs": [
        {
          "output_type": "execute_result",
          "data": {
            "text/plain": [
              "[5, 6, 7, 8, 9]"
            ]
          },
          "metadata": {},
          "execution_count": 15
        }
      ],
      "source": [
        "list(range(5, 10))"
      ]
    },
    {
      "cell_type": "code",
      "execution_count": null,
      "metadata": {
        "colab": {
          "base_uri": "https://localhost:8080/"
        },
        "id": "7cGVhf0o9OBa",
        "outputId": "49c97a54-01a6-486d-96bf-e4c464748135"
      },
      "outputs": [
        {
          "output_type": "execute_result",
          "data": {
            "text/plain": [
              "[0, 3, 6, 9]"
            ]
          },
          "metadata": {},
          "execution_count": 16
        }
      ],
      "source": [
        "list(range(0, 10, 3))"
      ]
    },
    {
      "cell_type": "code",
      "source": [
        "list(range(10, 2, -1))"
      ],
      "metadata": {
        "colab": {
          "base_uri": "https://localhost:8080/"
        },
        "id": "iJrB_nyirUin",
        "outputId": "a3350330-6529-456b-8ebb-6988c1abbe09"
      },
      "execution_count": null,
      "outputs": [
        {
          "output_type": "execute_result",
          "data": {
            "text/plain": [
              "[10, 9, 8, 7, 6, 5, 4, 3]"
            ]
          },
          "metadata": {},
          "execution_count": 17
        }
      ]
    },
    {
      "cell_type": "code",
      "execution_count": null,
      "metadata": {
        "colab": {
          "base_uri": "https://localhost:8080/"
        },
        "id": "NySucrFE9OBa",
        "outputId": "6f5d66fb-18cf-4b5f-b92b-e2296e138699"
      },
      "outputs": [
        {
          "output_type": "execute_result",
          "data": {
            "text/plain": [
              "[-10, -40, -70, -100]"
            ]
          },
          "metadata": {},
          "execution_count": 18
        }
      ],
      "source": [
        "list(range(-10, -101, -30))"
      ]
    },
    {
      "cell_type": "code",
      "execution_count": null,
      "metadata": {
        "colab": {
          "base_uri": "https://localhost:8080/"
        },
        "id": "XF2vWGQb9OBb",
        "outputId": "6b7495e6-fd61-4b17-d8d7-cb32551a924e"
      },
      "outputs": [
        {
          "output_type": "stream",
          "name": "stdout",
          "text": [
            "0 1\n",
            "1 56\n",
            "2 78\n",
            "3 8\n",
            "4 7\n"
          ]
        }
      ],
      "source": [
        "for i in range(len(numbers)):\n",
        "    print(i, numbers[i])"
      ]
    },
    {
      "cell_type": "code",
      "execution_count": null,
      "metadata": {
        "colab": {
          "base_uri": "https://localhost:8080/"
        },
        "id": "O4fHt_Qt9OBb",
        "outputId": "45e477f8-785f-4d32-efbc-75339ed51776"
      },
      "outputs": [
        {
          "output_type": "stream",
          "name": "stdout",
          "text": [
            "2,7,12,17,22,27,32,37,42,47,52,57,62,67,72,77,82,87,92,97,"
          ]
        }
      ],
      "source": [
        "for i in range(2,100,5):\n",
        "    print(i,end=',')"
      ]
    },
    {
      "cell_type": "markdown",
      "metadata": {
        "id": "_0M3Y1F09OBc"
      },
      "source": [
        "<b>Exercise 2:</b> Print all the even numbers between 0 to 100 using <b>for loop</b> and <b>range</b>."
      ]
    },
    {
      "cell_type": "code",
      "execution_count": 25,
      "metadata": {
        "id": "nzKgmsMy9OBc",
        "colab": {
          "base_uri": "https://localhost:8080/"
        },
        "outputId": "513ae51b-17eb-4377-a763-cb9c4ebaa051"
      },
      "outputs": [
        {
          "output_type": "stream",
          "name": "stdout",
          "text": [
            "0 2 4 6 8 10 12 14 16 18 20 22 24 26 28 30 32 34 36 38 40 42 44 46 48 50 52 54 56 58 60 62 64 66 68 70 72 74 76 78 80 82 84 86 88 90 92 94 96 98 100 "
          ]
        }
      ],
      "source": [
        "for i in list(range(0,101,2)):\n",
        "  print (i, end=' ')"
      ]
    },
    {
      "cell_type": "code",
      "execution_count": null,
      "metadata": {
        "colab": {
          "base_uri": "https://localhost:8080/"
        },
        "id": "CxyodY3I9OBd",
        "outputId": "11f00ffc-0987-49e3-8540-e382b42a9906"
      },
      "outputs": [
        {
          "output_type": "stream",
          "name": "stdout",
          "text": [
            "b a n g l a d e s h "
          ]
        }
      ],
      "source": [
        "country = \"bangladesh\"\n",
        "for c in country:\n",
        "    print(c,end=' ')"
      ]
    },
    {
      "cell_type": "markdown",
      "metadata": {
        "id": "UpWE7Kch9OBd"
      },
      "source": [
        "# Functions\n",
        "<p style=\"text-align: justify\">The keyword def introduces a function definition. It must be followed by the function name and the parenthesized list of formal parameters. The statements that form the body of the function start at the next line, and must be indented.</p>"
      ]
    },
    {
      "cell_type": "code",
      "source": [
        "from math import sqrt\n",
        "\n",
        "def is_prime(num):\n",
        "  if num <= 1:\n",
        "    return False\n",
        "  for i in range(2, int(sqrt(num)) + 1):\n",
        "    if num % i == 0:\n",
        "      return False\n",
        "  return True\n",
        "\n",
        "# Check if a few numbers are prime\n",
        "numbers = [2, 3, 4, 5, 6, 7, 8, 9, 10, 11]\n",
        "for num in numbers:\n",
        "  if is_prime(num):\n",
        "    print(num, \"is prime\")\n",
        "  else:\n",
        "    print(num, \"is not prime\")\n"
      ],
      "metadata": {
        "id": "YRU1pFyIKR5B",
        "colab": {
          "base_uri": "https://localhost:8080/"
        },
        "outputId": "99d00235-64ce-4036-fb94-7f009208896b"
      },
      "execution_count": null,
      "outputs": [
        {
          "output_type": "stream",
          "name": "stdout",
          "text": [
            "2 is prime\n",
            "3 is prime\n",
            "4 is not prime\n",
            "5 is prime\n",
            "6 is not prime\n",
            "7 is prime\n",
            "8 is not prime\n",
            "9 is not prime\n",
            "10 is not prime\n",
            "11 is prime\n"
          ]
        }
      ]
    },
    {
      "cell_type": "code",
      "execution_count": null,
      "metadata": {
        "id": "zZaBBUgb9OBd"
      },
      "outputs": [],
      "source": [
        "def fib(n):    # write Fibonacci series up to n\n",
        "    lst = [0,1]\n",
        "    a, b = 0, 1\n",
        "    while True:\n",
        "        #print(a, end=' ')\n",
        "        a, b = b, a+b\n",
        "        if b < n:\n",
        "          lst.append(b)\n",
        "        else:\n",
        "          break\n",
        "        #print()\n",
        "    return lst\n"
      ]
    },
    {
      "cell_type": "code",
      "execution_count": null,
      "metadata": {
        "colab": {
          "base_uri": "https://localhost:8080/"
        },
        "id": "aFCr3Pc99OBe",
        "outputId": "af6e94ca-9a7c-4eae-ebb4-a67a7718d8c1"
      },
      "outputs": [
        {
          "output_type": "stream",
          "name": "stdout",
          "text": [
            "[0, 1, 1, 2, 3, 5, 8, 13, 21, 34, 55, 89, 144, 233, 377, 610, 987]\n"
          ]
        }
      ],
      "source": [
        "# Now call the function we just defined:\n",
        "r = fib(1000)\n",
        "print(r)"
      ]
    },
    {
      "cell_type": "code",
      "execution_count": 31,
      "metadata": {
        "id": "_SueK7ww9OBe"
      },
      "outputs": [],
      "source": [
        "# define method\n",
        "def addnumbers(a, b): # add numbers and return result\n",
        "    # logic\n",
        "    c = a + b\n",
        "    return c"
      ]
    },
    {
      "cell_type": "code",
      "source": [
        "addnumbers(2,23)"
      ],
      "metadata": {
        "id": "8fRPogdbzLSI",
        "colab": {
          "base_uri": "https://localhost:8080/"
        },
        "outputId": "c01a2def-b5a3-44ba-f704-e2a5e10bb02b"
      },
      "execution_count": 32,
      "outputs": [
        {
          "output_type": "execute_result",
          "data": {
            "text/plain": [
              "25"
            ]
          },
          "metadata": {},
          "execution_count": 32
        }
      ]
    },
    {
      "cell_type": "code",
      "execution_count": 33,
      "metadata": {
        "colab": {
          "base_uri": "https://localhost:8080/"
        },
        "id": "WX14lRM59OBe",
        "outputId": "d8541a9d-d7e6-43d3-a498-7417fd58a2f8"
      },
      "outputs": [
        {
          "output_type": "stream",
          "name": "stdout",
          "text": [
            "8ppp9\n"
          ]
        }
      ],
      "source": [
        "y = addnumbers('8ppp', '9') # use or call method\n",
        "print(y)"
      ]
    },
    {
      "cell_type": "code",
      "execution_count": 34,
      "metadata": {
        "id": "rVpfHNMo9OBf",
        "outputId": "a68fadd2-b4d9-434c-d213-1982d1831c64",
        "colab": {
          "base_uri": "https://localhost:8080/"
        }
      },
      "outputs": [
        {
          "output_type": "execute_result",
          "data": {
            "text/plain": [
              "[33, 77, 66]"
            ]
          },
          "metadata": {},
          "execution_count": 34
        }
      ],
      "source": [
        "addnumbers([33,77], [66])"
      ]
    },
    {
      "cell_type": "code",
      "execution_count": 35,
      "metadata": {
        "id": "S1xGUH_N9OBf"
      },
      "outputs": [],
      "source": [
        "# add list values\n",
        "def addValues(num):\n",
        "    sum = 0\n",
        "    for n in num:\n",
        "        sum = sum+ n\n",
        "    return sum"
      ]
    },
    {
      "cell_type": "code",
      "source": [
        "addValues(range(10))"
      ],
      "metadata": {
        "colab": {
          "base_uri": "https://localhost:8080/"
        },
        "id": "I4W3uWLsrH-4",
        "outputId": "b912af5b-d58e-4eb5-bf94-1c7ca1cd8433"
      },
      "execution_count": 36,
      "outputs": [
        {
          "output_type": "execute_result",
          "data": {
            "text/plain": [
              "45"
            ]
          },
          "metadata": {},
          "execution_count": 36
        }
      ]
    },
    {
      "cell_type": "code",
      "execution_count": 37,
      "metadata": {
        "id": "CqJJSRvK9OBf",
        "colab": {
          "base_uri": "https://localhost:8080/"
        },
        "outputId": "3918e2af-ca1b-4597-c2bc-09d842f318cb"
      },
      "outputs": [
        {
          "output_type": "execute_result",
          "data": {
            "text/plain": [
              "0"
            ]
          },
          "metadata": {},
          "execution_count": 37
        }
      ],
      "source": [
        "addValues([])"
      ]
    },
    {
      "cell_type": "code",
      "execution_count": 38,
      "metadata": {
        "id": "egl16dJp9OBg",
        "colab": {
          "base_uri": "https://localhost:8080/"
        },
        "outputId": "730f449d-45d4-423b-ad8d-e51f7e87d322"
      },
      "outputs": [
        {
          "output_type": "execute_result",
          "data": {
            "text/plain": [
              "28"
            ]
          },
          "metadata": {},
          "execution_count": 38
        }
      ],
      "source": [
        "v = [5, 4,12, 7]\n",
        "addValues(v)"
      ]
    },
    {
      "cell_type": "code",
      "source": [],
      "metadata": {
        "id": "xLgwZlvbrirQ"
      },
      "execution_count": null,
      "outputs": []
    },
    {
      "cell_type": "code",
      "execution_count": 39,
      "metadata": {
        "id": "HKIYxiaK9OBg",
        "colab": {
          "base_uri": "https://localhost:8080/"
        },
        "outputId": "4dece468-9bbd-4b48-c67f-c003d5a3cd8f"
      },
      "outputs": [
        {
          "output_type": "execute_result",
          "data": {
            "text/plain": [
              "84"
            ]
          },
          "metadata": {},
          "execution_count": 39
        }
      ],
      "source": [
        "v = [5, 4,12, 7, 5, 4,12, 7, 5, 4,12, 7]\n",
        "addValues(v)"
      ]
    },
    {
      "cell_type": "code",
      "execution_count": 56,
      "metadata": {
        "id": "SksLGPeh9OBh"
      },
      "outputs": [],
      "source": [
        "# method/function\n",
        "def multiTable(n, r=9):\n",
        "    for i in range(1,r+1):\n",
        "        print(\"{}x{}={}\".format(n,i,n*i))"
      ]
    },
    {
      "cell_type": "code",
      "execution_count": 57,
      "metadata": {
        "id": "5X6DqTib9OBh",
        "colab": {
          "base_uri": "https://localhost:8080/"
        },
        "outputId": "49460759-3e1a-42fb-d781-995ec43e90ea"
      },
      "outputs": [
        {
          "output_type": "stream",
          "name": "stdout",
          "text": [
            "8x1=8\n",
            "8x2=16\n",
            "8x3=24\n",
            "8x4=32\n",
            "8x5=40\n",
            "8x6=48\n",
            "8x7=56\n",
            "8x8=64\n",
            "8x9=72\n"
          ]
        }
      ],
      "source": [
        "multiTable(8)"
      ]
    },
    {
      "cell_type": "code",
      "execution_count": 61,
      "metadata": {
        "id": "gfyLgPF29OBh",
        "colab": {
          "base_uri": "https://localhost:8080/"
        },
        "outputId": "46c3fdab-c862-465e-d5c2-ff9fc78fc661"
      },
      "outputs": [
        {
          "output_type": "stream",
          "name": "stdout",
          "text": [
            "1000000000000000000000000000000000000000000000000000x1=1000000000000000000000000000000000000000000000000000\n",
            "1000000000000000000000000000000000000000000000000000x2=2000000000000000000000000000000000000000000000000000\n",
            "1000000000000000000000000000000000000000000000000000x3=3000000000000000000000000000000000000000000000000000\n",
            "1000000000000000000000000000000000000000000000000000x4=4000000000000000000000000000000000000000000000000000\n",
            "1000000000000000000000000000000000000000000000000000x5=5000000000000000000000000000000000000000000000000000\n",
            "1000000000000000000000000000000000000000000000000000x6=6000000000000000000000000000000000000000000000000000\n",
            "1000000000000000000000000000000000000000000000000000x7=7000000000000000000000000000000000000000000000000000\n",
            "1000000000000000000000000000000000000000000000000000x8=8000000000000000000000000000000000000000000000000000\n",
            "1000000000000000000000000000000000000000000000000000x9=9000000000000000000000000000000000000000000000000000\n"
          ]
        }
      ],
      "source": [
        "multiTable(1000000000000000000000000000000000000000000000000000)"
      ]
    },
    {
      "cell_type": "markdown",
      "metadata": {
        "id": "ICNPFsDQ9OBh"
      },
      "source": [
        "<b>Exercise 3:</b> Define a <b>method/function</b> which will take two lists of numbers and returns a list (sum of two lists)\n",
        "<p>Example:<br>\n",
        "    Input: [3,4,5,1] and [6,7,2,8]<br>\n",
        "    output: [9,11,7,9]</p>\n"
      ]
    },
    {
      "cell_type": "code",
      "execution_count": 51,
      "metadata": {
        "id": "5MPMcHnz9OBi",
        "colab": {
          "base_uri": "https://localhost:8080/"
        },
        "outputId": "854340b2-30ce-4a9a-cb95-aa96f2203576"
      },
      "outputs": [
        {
          "output_type": "stream",
          "name": "stdout",
          "text": [
            "The sum of  [3, 4, 5, 1]  and  [6, 7, 2, 8]  is :  [9, 11, 7, 9]\n"
          ]
        }
      ],
      "source": [
        "def sumlist(list1, list2):\n",
        "\n",
        "  if len(list1) != len(list2):\n",
        "    print (\"Lists must be the same in length\")\n",
        "    return \"adjust length\"\n",
        "\n",
        "  sum = []\n",
        "\n",
        "  for i in range(len(list1)):\n",
        "    sum.append(list1[i] + list2[i])\n",
        "  return sum\n",
        "\n",
        "list1 = [3, 4, 5, 1]\n",
        "list2 = [6, 7, 2, 8]\n",
        "\n",
        "sum = sumlist(list1, list2)\n",
        "print(\"The sum of \", list1 , \" and \", list2 ,\" is : \", sum)\n"
      ]
    },
    {
      "cell_type": "markdown",
      "metadata": {
        "id": "DSjaC86G9OBi"
      },
      "source": [
        "<b> Exercise 4:</b> Write a <b>method</b> which will take the <b>full name</b> as input and return both the first name and last name.\n",
        "<p>Example:<br>\n",
        "    Input: Arafat Rahman Sunny<br>\n",
        "    Output: First name: Arafat, Last name: Sunny</p>"
      ]
    },
    {
      "cell_type": "code",
      "execution_count": 62,
      "metadata": {
        "id": "HCpI48lj9OBi",
        "colab": {
          "base_uri": "https://localhost:8080/"
        },
        "outputId": "510dc123-903a-4f2e-acf4-dae191f9113b"
      },
      "outputs": [
        {
          "output_type": "stream",
          "name": "stdout",
          "text": [
            "First name: Tanjim\n",
            "Last name: Rahman\n"
          ]
        }
      ],
      "source": [
        "def get_first_last_name(full_name):\n",
        "\n",
        "  names = full_name.split()\n",
        "\n",
        "  first_name = names[0]\n",
        "\n",
        "  last_name = names[-1]\n",
        "\n",
        "  return first_name, last_name\n",
        "\n",
        "full_name = \"Tanjim Rahman\"\n",
        "first_name, last_name = get_first_last_name(full_name)\n",
        "\n",
        "print(\"First name:\", first_name)\n",
        "print(\"Last name:\", last_name)\n"
      ]
    },
    {
      "cell_type": "markdown",
      "metadata": {
        "id": "rQ1Zq6Dm9OBj"
      },
      "source": [
        "# Output Formatting (Optional)\n",
        "Go to the [link](https://docs.python.org/3/tutorial/inputoutput.html#formatted-string-literals) and practice the codes below."
      ]
    },
    {
      "cell_type": "code",
      "execution_count": 64,
      "metadata": {
        "id": "yFN0SVO29OBj",
        "colab": {
          "base_uri": "https://localhost:8080/"
        },
        "outputId": "ab82f09b-b42e-445c-ddf9-65f5e0717550"
      },
      "outputs": [
        {
          "output_type": "stream",
          "name": "stdout",
          "text": [
            "Enter is your name: Tanjim Rahman\n",
            "How old are you?: 24\n",
            "Tanjim Rahman has born in 2000.\n"
          ]
        }
      ],
      "source": [
        "name = input(\"Enter is your name: \")\n",
        "age = int(input(\"How old are you?: \"))\n",
        "print(f\"{name} has born in {str(2024-int(age))}.\")"
      ]
    }
  ],
  "metadata": {
    "kernelspec": {
      "display_name": "Python 3",
      "language": "python",
      "name": "python3"
    },
    "language_info": {
      "codemirror_mode": {
        "name": "ipython",
        "version": 3
      },
      "file_extension": ".py",
      "mimetype": "text/x-python",
      "name": "python",
      "nbconvert_exporter": "python",
      "pygments_lexer": "ipython3",
      "version": "3.8.5"
    },
    "colab": {
      "provenance": [],
      "include_colab_link": true
    }
  },
  "nbformat": 4,
  "nbformat_minor": 0
}